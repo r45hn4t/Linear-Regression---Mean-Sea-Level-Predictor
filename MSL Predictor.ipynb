{
 "cells": [
  {
   "cell_type": "code",
   "execution_count": 1,
   "id": "424d0f56-f59c-4510-aa95-aecdc0640602",
   "metadata": {},
   "outputs": [],
   "source": [
    "import pandas as pd\n",
    "import numpy as np\n",
    "import matplotlib.pyplot as plt\n",
    "import seaborn as sns\n",
    "import scipy.stats as sc"
   ]
  },
  {
   "cell_type": "markdown",
   "id": "d18b0cc9",
   "metadata": {},
   "source": [
    "###### **(Run this notebook all over (click: \"Run All\") because in the last cell the dataframe has been modified including index so that cell will not run separately**)"
   ]
  },
  {
   "cell_type": "markdown",
   "id": "6372ba3e",
   "metadata": {},
   "source": [
    "### Reading data"
   ]
  },
  {
   "cell_type": "code",
   "execution_count": 2,
   "id": "e2e0c849",
   "metadata": {},
   "outputs": [
    {
     "data": {
      "text/html": [
       "<div>\n",
       "<style scoped>\n",
       "    .dataframe tbody tr th:only-of-type {\n",
       "        vertical-align: middle;\n",
       "    }\n",
       "\n",
       "    .dataframe tbody tr th {\n",
       "        vertical-align: top;\n",
       "    }\n",
       "\n",
       "    .dataframe thead th {\n",
       "        text-align: right;\n",
       "    }\n",
       "</style>\n",
       "<table border=\"1\" class=\"dataframe\">\n",
       "  <thead>\n",
       "    <tr style=\"text-align: right;\">\n",
       "      <th></th>\n",
       "      <th>Year</th>\n",
       "      <th>CSIRO Adjusted Sea Level</th>\n",
       "      <th>Lower Error Bound</th>\n",
       "      <th>Upper Error Bound</th>\n",
       "      <th>NOAA Adjusted Sea Level</th>\n",
       "    </tr>\n",
       "  </thead>\n",
       "  <tbody>\n",
       "    <tr>\n",
       "      <th>0</th>\n",
       "      <td>1880</td>\n",
       "      <td>0.000000</td>\n",
       "      <td>-0.952756</td>\n",
       "      <td>0.952756</td>\n",
       "      <td>NaN</td>\n",
       "    </tr>\n",
       "    <tr>\n",
       "      <th>1</th>\n",
       "      <td>1881</td>\n",
       "      <td>0.220472</td>\n",
       "      <td>-0.732283</td>\n",
       "      <td>1.173228</td>\n",
       "      <td>NaN</td>\n",
       "    </tr>\n",
       "    <tr>\n",
       "      <th>2</th>\n",
       "      <td>1882</td>\n",
       "      <td>-0.440945</td>\n",
       "      <td>-1.346457</td>\n",
       "      <td>0.464567</td>\n",
       "      <td>NaN</td>\n",
       "    </tr>\n",
       "    <tr>\n",
       "      <th>3</th>\n",
       "      <td>1883</td>\n",
       "      <td>-0.232283</td>\n",
       "      <td>-1.129921</td>\n",
       "      <td>0.665354</td>\n",
       "      <td>NaN</td>\n",
       "    </tr>\n",
       "    <tr>\n",
       "      <th>4</th>\n",
       "      <td>1884</td>\n",
       "      <td>0.590551</td>\n",
       "      <td>-0.283465</td>\n",
       "      <td>1.464567</td>\n",
       "      <td>NaN</td>\n",
       "    </tr>\n",
       "  </tbody>\n",
       "</table>\n",
       "</div>"
      ],
      "text/plain": [
       "   Year  CSIRO Adjusted Sea Level  Lower Error Bound  Upper Error Bound  \\\n",
       "0  1880                  0.000000          -0.952756           0.952756   \n",
       "1  1881                  0.220472          -0.732283           1.173228   \n",
       "2  1882                 -0.440945          -1.346457           0.464567   \n",
       "3  1883                 -0.232283          -1.129921           0.665354   \n",
       "4  1884                  0.590551          -0.283465           1.464567   \n",
       "\n",
       "   NOAA Adjusted Sea Level  \n",
       "0                      NaN  \n",
       "1                      NaN  \n",
       "2                      NaN  \n",
       "3                      NaN  \n",
       "4                      NaN  "
      ]
     },
     "execution_count": 2,
     "metadata": {},
     "output_type": "execute_result"
    }
   ],
   "source": [
    "df = pd.read_csv(\"epa-sea-level.csv\")\n",
    "df.head(5)"
   ]
  },
  {
   "cell_type": "markdown",
   "id": "59fc72da",
   "metadata": {},
   "source": [
    "### Best fit plot with whole data"
   ]
  },
  {
   "cell_type": "code",
   "execution_count": 3,
   "id": "360eb054",
   "metadata": {},
   "outputs": [
    {
     "name": "stdout",
     "output_type": "stream",
     "text": [
      "LinregressResult(slope=0.06304458401213482, intercept=-119.06594196773983, rvalue=0.984757131182585, pvalue=3.788696979113155e-102, stderr=0.0009692118713287152, intercept_stderr=1.886943381242523)\n"
     ]
    },
    {
     "data": {
      "image/png": "[encoded data removed]",
      "text/plain": [
       "<Figure size 720x504 with 1 Axes>"
      ]
     },
     "metadata": {
      "needs_background": "light"
     },
     "output_type": "display_data"
    },
    {
     "name": "stdout",
     "output_type": "stream",
     "text": [
      "Expected sea level in 2050 is 10.175455257136548 meter\n"
     ]
    }
   ],
   "source": [
    "year = df[\"Year\"]\n",
    "asl = df[\"CSIRO Adjusted Sea Level\"]\n",
    "print(sc.linregress(year,asl))\n",
    "rg = list(sc.linregress(year,asl))\n",
    "slope = rg[0]\n",
    "intercept=rg[1]\n",
    "plt.figure(figsize=(10,7))\n",
    "plt.scatter(year,asl)\n",
    "year=np.arange(1880,2060,1)\n",
    "asl_bf = intercept+slope*year\n",
    "plt.plot(year,asl_bf,\"r\",linewidth=3)\n",
    "plt.xlabel(\"Year\",fontsize=11)\n",
    "plt.ylabel(\"Sea Level (inches)\",fontsize=11)\n",
    "plt.title(\"Rise in Sea Level\",fontsize=15)\n",
    "plt.show()\n",
    "asl_2050=intercept+slope*2050\n",
    "print(f\"Expected sea level in 2050 is {asl_2050} meter\")"
   ]
  },
  {
   "cell_type": "markdown",
   "id": "f05dabcf",
   "metadata": {},
   "source": [
    "### Best fit plot with recent data"
   ]
  },
  {
   "cell_type": "code",
   "execution_count": 4,
   "id": "d24f98c3",
   "metadata": {},
   "outputs": [
    {
     "name": "stdout",
     "output_type": "stream",
     "text": [
      "LinregressResult(slope=0.1664272733318682, intercept=-325.7934668059649, rvalue=0.9762875716140618, pvalue=2.4388064141618245e-09, stderr=0.010652933111541163, intercept_stderr=21.375153425608215)\n"
     ]
    },
    {
     "data": {
      "image/png": "[encoded data removed]",
      "text/plain": [
       "<Figure size 720x504 with 1 Axes>"
      ]
     },
     "metadata": {
      "needs_background": "light"
     },
     "output_type": "display_data"
    }
   ],
   "source": [
    "df.set_index(\"Year\",inplace=True)\n",
    "df[\"year\"] = df.index\n",
    "years = df.loc[2000:2013][\"year\"]\n",
    "asl = df.loc[2000:2013][\"CSIRO Adjusted Sea Level\"]\n",
    "print(sc.linregress(years,asl))\n",
    "rg = list(sc.linregress(years,asl))\n",
    "slope = rg[0]\n",
    "intercept=rg[1]\n",
    "plt.figure(figsize=(10,7))\n",
    "plt.scatter(years,asl)\n",
    "year=np.arange(2000,2060,1)\n",
    "asl_bf = intercept+slope*year\n",
    "plt.plot(year,asl_bf,\"r\",linewidth=3)\n",
    "plt.xlabel(\"Year\",fontsize=11)\n",
    "plt.ylabel(\"Sea Level (inches)\",fontsize=11)\n",
    "plt.title(\"Rise in Sea Level\",fontsize=15)\n",
    "plt.show()"
   ]
  },
  {
   "cell_type": "markdown",
   "id": "3aa87645",
   "metadata": {},
   "source": [
    "### Predict sea level in 2050"
   ]
  },
  {
   "cell_type": "code",
   "execution_count": 5,
   "id": "290c8379",
   "metadata": {},
   "outputs": [
    {
     "name": "stdout",
     "output_type": "stream",
     "text": [
      "Expected sea level in 2050 is 15.382443524364874 meter\n"
     ]
    }
   ],
   "source": [
    "asl_2050=intercept+slope*2050\n",
    "print(f\"Expected sea level in 2050 is {asl_2050} meter\")\n",
    "del df[\"year\"]"
   ]
  }
 ],
 "metadata": {
  "interpreter": {
   "hash": "afb734500600fd355917ca529030176ea0ca205570884b88f2f6f7d791fd3fbe"
  },
  "kernelspec": {
   "display_name": "Python 3.10.0 64-bit",
   "language": "python",
   "name": "python3"
  },
  "language_info": {
   "codemirror_mode": {
    "name": "ipython",
    "version": 3
   },
   "file_extension": ".py",
   "mimetype": "text/x-python",
   "name": "python",
   "nbconvert_exporter": "python",
   "pygments_lexer": "ipython3",
   "version": "3.10.0"
  }
 },
 "nbformat": 4,
 "nbformat_minor": 5
}
